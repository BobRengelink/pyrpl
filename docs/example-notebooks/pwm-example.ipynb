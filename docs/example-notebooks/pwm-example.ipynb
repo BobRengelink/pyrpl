{
 "cells": [
  {
   "cell_type": "code",
   "execution_count": null,
   "metadata": {
    "collapsed": true
   },
   "outputs": [],
   "source": [
    "#define hostname\n",
    "HOSTNAME = '192.168.1.100'"
   ]
  },
  {
   "cell_type": "code",
   "execution_count": null,
   "metadata": {},
   "outputs": [],
   "source": [
    "import pyrpl\n",
    "p = pyrpl.Pyrpl(config=\"\",  # do not use a config file \n",
    "                hostname=HOSTNAME)\n",
    "rp = p.redpitaya  # shortcut for the the redpitaya handler\n",
    "\n",
    "# the pwm-module maps from the DSP signal voltages between +/-1V to the output voltages of the PWM pins from 0 to 1.8V.\n",
    "# we have a direct read-access to the current output voltages for all four PWM pins:\n",
    "print(\"Current output voltages at the four PWM pins: \", rp.ams.dac0, rp.ams.dac1, rp.ams.dac2, rp.ams.dac3)\n",
    "\n",
    "# we can set the static output voltage directly for the remaining pins dac2 and dac3 (those are not interfaced)\n",
    "rp.ams.dac0 = 0  # minimum possible value, everything smaller is clipped to 0\n",
    "rp.ams.dac1 = 1.8  # maximumum possible value, everything larger is clipped to 1.8\n",
    "rp.ams.dac2 = 0.123\n",
    "rp.ams.dac3 = 1.345\n",
    "print(\"Current output voltages at the four PWM pins: \", rp.ams.dac0, rp.ams.dac1, rp.ams.dac2, rp.ams.dac3)"
   ]
  },
  {
   "cell_type": "code",
   "execution_count": null,
   "metadata": {
    "collapsed": true
   },
   "outputs": [],
   "source": []
  }
 ],
 "metadata": {
  "kernelspec": {
   "display_name": "Python 3",
   "language": "python",
   "name": "python3"
  },
  "language_info": {
   "codemirror_mode": {
    "name": "ipython",
    "version": 3
   },
   "file_extension": ".py",
   "mimetype": "text/x-python",
   "name": "python",
   "nbconvert_exporter": "python",
   "pygments_lexer": "ipython3",
   "version": "3.6.7"
  }
 },
 "nbformat": 4,
 "nbformat_minor": 2
}
