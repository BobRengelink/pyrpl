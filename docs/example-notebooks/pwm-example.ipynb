{
 "cells": [
  {
   "cell_type": "code",
   "execution_count": 1,
   "metadata": {},
   "outputs": [
    {
     "name": "stderr",
     "output_type": "stream",
     "text": [
      "/home/leo/anaconda3/lib/python3.6/site-packages/h5py/__init__.py:36: FutureWarning: Conversion of the second argument of issubdtype from `float` to `np.floating` is deprecated. In future, it will be treated as `np.float64 == np.dtype(float).type`.\n",
      "  from ._conv import register_converters as _register_converters\n",
      "INFO:pyrpl:All your PyRPL settings will be saved to the config file\n",
      "    /home/leo/pyrpl_user_dir/config/pwmtest.yml\n",
      "If you would like to restart PyRPL with these settings, type \"pyrpl.exe pwmtest\" in a windows terminal or \n",
      "    from pyrpl import Pyrpl\n",
      "    p = Pyrpl('pwmtest')\n",
      "in a python terminal.\n",
      "WARNING:pyrpl.modules:Register decimation of module scope has value 1, which does not correspond to selected option 8192. Setting to '8192'. \n",
      "WARNING:pyrpl.redpitaya:Simulating RedPitaya because (hostname==_FAKE_). Incomplete functionality possible. \n"
     ]
    },
    {
     "name": "stdout",
     "output_type": "stream",
     "text": [
      "Auxiliary outputs. PWM0-3 correspond to pins 17-20 on E2 connector.\n",
      "\n",
      "    See  http://wiki.redpitaya.com/index.php?title=Extension_connectors\n",
      "    to find out where to connect your output device to the board.\n",
      "    Outputs are 0-1.8V, but we will map this to -1 to 1 V internally to\n",
      "    guarantee compatibility with other modules. So setting a pwm voltage\n",
      "    to '-1V' means you'll measure 0V, setting it to '+1V' you'll find 1.8V.\n",
      "\n",
      "    Usage:\n",
      "    pwm0 = AuxOutput(output='pwm0')\n",
      "    pwm0.input = 'pid0'\n",
      "    Pid(client, module='pid0').ival = 0 # -> outputs 0.9V on PWM0\n",
      "\n",
      "    Make sure you have an analog low-pass with cutoff of at most 1 kHz\n",
      "    behind the output pin, and possibly an output buffer for proper\n",
      "    performance. Only recommended for temperature control or other\n",
      "    slow actuators. Big noise peaks are expected around 480 kHz.\n",
      "\n",
      "    Currently, only pwm1 and pwm2 are available.\n",
      "    \n",
      "Setup Attributes:\n",
      "\n",
      "\n",
      "Default inputs for pwm0/1: off/off\n",
      "\n",
      "Input options for pwm0/1: \n",
      "['in1', 'in2', 'out1', 'out2', 'iq0', 'iq1', 'iq2', 'iq2_2', 'pid0', 'pid1', 'pid2', 'asg0', 'asg1', 'trig', 'iir', 'off', 'networkanalyzer', 'lockbox.inputs.input_from_output', 'lockbox.outputs.output1', 'lockbox.outputs.output2']\n",
      "Current inputs for pwm0/1: pid0/asg0\n",
      "\n",
      "Current output voltages at the four PWM pins:  0.000439453125 0.000439453125 0.000439453125 0.000439453125\n",
      "Current output voltages at the four PWM pins:  0.000439453125 0.000439453125 0.0 1.8\n"
     ]
    }
   ],
   "source": [
    "import pyrpl\n",
    "p = pyrpl.Pyrpl(config=\"pwmtest\", hostname=\"_FAKE_\",)\n",
    "rp = p.redpitaya  # shortcut for the the redpitaya handler\n",
    "\n",
    "print(rp.pwm0.__doc__)  # print the help, same is possible with \"rp.pwm0?\" in interactive python console\n",
    "# last line of help text is outdated and means to say: \"Currently, only pwm0 and pwm1 are available.\"\n",
    "\n",
    "print(\"Default inputs for pwm0/1: %s/%s\\n\"%(rp.pwm0.input, rp.pwm1.input))\n",
    "print(\"Input options for pwm0/1: \\n%s\"%rp.pwm0.input_options)\n",
    "rp.pwm0.input = 'pid0'  # connect the output_signal of pid0 to pwm0 pin\n",
    "rp.pwm1.input = rp.asg0  # connect the output_signal of asg0 to pwm0 pin\n",
    "print(\"Current inputs for pwm0/1: %s/%s\\n\"%(rp.pwm0.input, rp.pwm1.input))\n",
    "\n",
    "# the pwm-module maps from the DSP signal voltages between +/-1V to the output voltages of the PWM pins from 0 to 1.8V.\n",
    "# we have a direct read-access to the current output voltages for all four PWM pins:\n",
    "print(\"Current output voltages at the four PWM pins: \", rp.ams.dac0, rp.ams.dac1, rp.ams.dac2, rp.ams.dac3)\n",
    "\n",
    "# we can set the static output voltage directly for the remaining pins dac2 and dac3 (those are not interfaced)\n",
    "rp.ams.dac2 = 0  # minimum possible value, everything smaller is clipped to 0\n",
    "rp.ams.dac3 = 1.8  # maximumum possible value, everything larger is clipped to 1.8\n",
    "print(\"Current output voltages at the four PWM pins: \", rp.ams.dac0, rp.ams.dac1, rp.ams.dac2, rp.ams.dac3)"
   ]
  },
  {
   "cell_type": "code",
   "execution_count": null,
   "metadata": {},
   "outputs": [],
   "source": []
  }
 ],
 "metadata": {
  "kernelspec": {
   "display_name": "Python 3",
   "language": "python",
   "name": "python3"
  },
  "language_info": {
   "codemirror_mode": {
    "name": "ipython",
    "version": 3
   },
   "file_extension": ".py",
   "mimetype": "text/x-python",
   "name": "python",
   "nbconvert_exporter": "python",
   "pygments_lexer": "ipython3",
   "version": "3.6.4"
  }
 },
 "nbformat": 4,
 "nbformat_minor": 2
}
