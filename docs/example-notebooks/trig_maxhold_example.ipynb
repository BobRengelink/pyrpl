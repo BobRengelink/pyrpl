{
 "cells": [
  {
   "cell_type": "code",
   "execution_count": 1,
   "metadata": {},
   "outputs": [],
   "source": [
    "#define hostname\n",
    "HOSTNAME = '192.168.1.100'"
   ]
  },
  {
   "cell_type": "code",
   "execution_count": 2,
   "metadata": {},
   "outputs": [],
   "source": [
    "import os\n",
    "HOSTNAME = os.environ['REDPITAYA_HOSTNAME']"
   ]
  },
  {
   "cell_type": "code",
   "execution_count": null,
   "metadata": {},
   "outputs": [],
   "source": [
    "import pyrpl\n",
    "p = pyrpl.Pyrpl(config=\"trig_maxhold_test\",  # do not use a config file \n",
    "                hostname=HOSTNAME)\n",
    "rp = p.redpitaya  # shortcut for the the redpitaya handler"
   ]
  },
  {
   "cell_type": "code",
   "execution_count": null,
   "metadata": {},
   "outputs": [],
   "source": [
    "import numpy as np\n",
    "\n",
    "def make_custom_waveform():\n",
    "    \"\"\" \n",
    "    This waveform imitates very short pulses of varying amplitude.\n",
    "    \n",
    "    See scope traces of this waveform rather than trying to infer \n",
    "    its shape from code.\n",
    "    \"\"\"\n",
    "    waveform = np.zeros(2**14)\n",
    "    for i in range(16):\n",
    "        for j in range(100):\n",
    "            waveform[i*1000+j] = i*0.01+j*0.008\n",
    "        jmax = j\n",
    "        vmax = waveform[i*1000+j]\n",
    "        for j in range(100):\n",
    "            waveform[i*1000+j+jmax] = vmax-j*0.007\n",
    "    return waveform\n",
    "\n",
    "# setup asgs with custom waveform\n",
    "for asg in [rp.asg0, \n",
    "            #rp.asg1\n",
    "           ]:\n",
    "    # general asg setup\n",
    "    asg.setup(waveform='ramp', \n",
    "              amplitude=1.0, \n",
    "              offset=0, \n",
    "              frequency=1e5, \n",
    "              output_direct='off',\n",
    "              trigger_source='immediately')\n",
    "    # hack to load the custom waveform into asg\n",
    "    asg.data = make_custom_waveform()\n",
    "    \n",
    "# use trig module for max-mold mechanism\n",
    "trig = rp.trig\n",
    "trig.setup(input='asg0',  # input signal\n",
    "           output_direct='off',  # whether the output should be summed to a voltage output out1 or out2\n",
    "           output_signal='max',  # sets up max-hold modus, min-hold is also possible with 'min'\n",
    "           trigger_source='pos_edge',  # trigger modus, i.e. positive slope, negative slope, etc.\n",
    "           threshold=0.1,  # voltage threshold above (pos_edge) or below (neg_edge) a max-hold acquisition is started\n",
    "           hysteresis=0.005,  # hysteresis for the trigger to detect an edge\n",
    "           auto_rearm_delay=0.01/asg.frequency,  # the delay in seconds afte trigger event during which max-/min is measured\n",
    "           auto_rearm=True,  # if False, only a single max/min is computed and output until next reset of the module\n",
    "          )\n",
    "\n",
    "# manually check on the scope\n",
    "rp.scope.setup(input1='asg0',\n",
    "               input2='trig',\n",
    "               duration=5.0/asg.frequency,\n",
    "               average=False,\n",
    "               trigger_source='asg0',\n",
    "               rolling_mode=False,\n",
    "               running_state='running_continuous'\n",
    "               )\n",
    "\n",
    "# have a look at the scope gui, this should be self-explanatory"
   ]
  },
  {
   "cell_type": "code",
   "execution_count": null,
   "metadata": {},
   "outputs": [],
   "source": [
    "# unrelated, but often-demanded feature on taking into account darknoise from lockbox inputs\n",
    "p.lockbox.inputs.port1.get_analog_offset?"
   ]
  },
  {
   "cell_type": "code",
   "execution_count": null,
   "metadata": {},
   "outputs": [],
   "source": []
  }
 ],
 "metadata": {
  "kernelspec": {
   "display_name": "Python 3",
   "language": "python",
   "name": "python3"
  },
  "language_info": {
   "codemirror_mode": {
    "name": "ipython",
    "version": 3
   },
   "file_extension": ".py",
   "mimetype": "text/x-python",
   "name": "python",
   "nbconvert_exporter": "python",
   "pygments_lexer": "ipython3",
   "version": "3.6.7"
  }
 },
 "nbformat": 4,
 "nbformat_minor": 2
}
