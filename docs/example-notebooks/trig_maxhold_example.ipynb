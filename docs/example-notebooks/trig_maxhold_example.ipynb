{
 "cells": [
  {
   "cell_type": "code",
   "execution_count": 1,
   "metadata": {},
   "outputs": [],
   "source": [
    "#define hostname\n",
    "HOSTNAME = '192.168.1.100'"
   ]
  },
  {
   "cell_type": "code",
   "execution_count": 2,
   "metadata": {},
   "outputs": [],
   "source": [
    "import os\n",
    "HOSTNAME = os.environ['REDPITAYA_HOSTNAME']"
   ]
  },
  {
   "cell_type": "code",
   "execution_count": 3,
   "metadata": {},
   "outputs": [
    {
     "name": "stderr",
     "output_type": "stream",
     "text": [
      "INFO:pyrpl:All your PyRPL settings will be saved to the config file\n",
      "    /home/leo/pyrpl_user_dir/config/trig_test.yml\n",
      "If you would like to restart PyRPL with these settings, type \"pyrpl.exe trig_test\" in a windows terminal or \n",
      "    from pyrpl import Pyrpl\n",
      "    p = Pyrpl('trig_test')\n",
      "in a python terminal.\n",
      "INFO:pyrpl.redpitaya:Successfully connected to Redpitaya with hostname 169.254.137.54.\n"
     ]
    }
   ],
   "source": [
    "import pyrpl\n",
    "p = pyrpl.Pyrpl(config=\"trig_test\",  # do not use a config file \n",
    "                hostname=HOSTNAME)\n",
    "rp = p.redpitaya  # shortcut for the the redpitaya handler"
   ]
  },
  {
   "cell_type": "code",
   "execution_count": 5,
   "metadata": {},
   "outputs": [],
   "source": [
    "import numpy as np\n",
    "\n",
    "def make_custom_waveform():\n",
    "    waveform = np.zeros(2**14)\n",
    "    for i in range(16):\n",
    "        for j in range(100):\n",
    "            waveform[i*1000+j] = i*0.01+j*0.008\n",
    "        jmax = j\n",
    "        vmax = waveform[i*1000+j]\n",
    "        for j in range(100):\n",
    "            waveform[i*1000+j+jmax] = vmax-j*0.007\n",
    "    return waveform\n",
    "\n",
    "# setup both asgs\n",
    "for asg in [rp.asg0, \n",
    "            #rp.asg1\n",
    "           ]:\n",
    "    asg.setup(waveform='ramp', \n",
    "              amplitude=1.0, \n",
    "              offset=0, \n",
    "              frequency=1e5, \n",
    "              output_direct='off',\n",
    "              trigger_source='immediately')\n",
    "    asg.data = make_custom_waveform()\n",
    "    \n",
    "trig = rp.trig\n",
    "trig.setup(input='asg0',\n",
    "          output_direct='off',\n",
    "          output_signal='max',\n",
    "          threshold=0.1,\n",
    "          hysteresis=0.005,\n",
    "          auto_rearm=True,\n",
    "          auto_rearm_delay=0.01/asg.frequency,\n",
    "         )\n",
    "\n",
    "# manually check on the scope\n",
    "rp.scope.setup(input1='asg0',\n",
    "               input2='trig',\n",
    "               duration=5.0/asg.frequency,\n",
    "               average=False,\n",
    "               trigger_source='asg0',\n",
    "               rolling_mode=False,\n",
    "               running_state='running_continuous'\n",
    "               )"
   ]
  },
  {
   "cell_type": "code",
   "execution_count": 24,
   "metadata": {},
   "outputs": [],
   "source": [
    "trig._auto_rearm_delay=20000000"
   ]
  },
  {
   "cell_type": "code",
   "execution_count": 25,
   "metadata": {},
   "outputs": [],
   "source": [
    "trig.armed=True"
   ]
  },
  {
   "cell_type": "code",
   "execution_count": 43,
   "metadata": {},
   "outputs": [],
   "source": []
  },
  {
   "cell_type": "code",
   "execution_count": 7,
   "metadata": {},
   "outputs": [
    {
     "data": {
      "text/plain": [
       "34.359738368"
      ]
     },
     "execution_count": 7,
     "metadata": {},
     "output_type": "execute_result"
    }
   ],
   "source": [
    "2**32/125e6"
   ]
  },
  {
   "cell_type": "code",
   "execution_count": null,
   "metadata": {
    "collapsed": true
   },
   "outputs": [],
   "source": []
  }
 ],
 "metadata": {
  "kernelspec": {
   "display_name": "Python 3",
   "language": "python",
   "name": "python3"
  },
  "language_info": {
   "codemirror_mode": {
    "name": "ipython",
    "version": 3
   },
   "file_extension": ".py",
   "mimetype": "text/x-python",
   "name": "python",
   "nbconvert_exporter": "python",
   "pygments_lexer": "ipython3",
   "version": "3.6.7"
  }
 },
 "nbformat": 4,
 "nbformat_minor": 2
}
